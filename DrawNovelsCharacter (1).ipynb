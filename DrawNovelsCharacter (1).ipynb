{
  "nbformat": 4,
  "nbformat_minor": 0,
  "metadata": {
    "colab": {
      "provenance": [],
      "gpuType": "T4"
    },
    "kernelspec": {
      "name": "python3",
      "display_name": "Python 3"
    },
    "language_info": {
      "name": "python"
    },
    "accelerator": "GPU"
  },
  "cells": [
    {
      "cell_type": "code",
      "source": [
        "#importing libraries\n",
        "import pandas as pd\n",
        "import spacy\n",
        "import requests\n",
        "import en_core_web_sm\n",
        "import numpy as np\n",
        "\n",
        "nlp = spacy.load(\"en_core_web_sm\")"
      ],
      "metadata": {
        "id": "GiBTy3-Bs1Iy"
      },
      "execution_count": 1,
      "outputs": []
    },
    {
      "cell_type": "code",
      "source": [
        "#Mounting Drive\n",
        "from google.colab import drive\n",
        "drive.mount('/content/drive')"
      ],
      "metadata": {
        "colab": {
          "base_uri": "https://localhost:8080/"
        },
        "id": "gDPhnHIRKGnK",
        "outputId": "ead984b1-c7de-4e21-fa1d-642a6394c820"
      },
      "execution_count": 2,
      "outputs": [
        {
          "output_type": "stream",
          "name": "stdout",
          "text": [
            "Drive already mounted at /content/drive; to attempt to forcibly remount, call drive.mount(\"/content/drive\", force_remount=True).\n"
          ]
        }
      ]
    },
    {
      "cell_type": "code",
      "source": [
        "#Defining path to text version of novel\n",
        "path= '/content/drive/MyDrive/NovelsForMLProject/FAT KEILY.txt'"
      ],
      "metadata": {
        "id": "KdxKNMeoKTfZ"
      },
      "execution_count": 3,
      "outputs": []
    },
    {
      "cell_type": "code",
      "source": [
        "#Diving data by paragraphs\n",
        "with open(path, 'r', encoding='windows-1252') as f:\n",
        "  data= [line for line in f.readlines()]\n"
      ],
      "metadata": {
        "id": "GFioEczl-BPm"
      },
      "execution_count": 4,
      "outputs": []
    },
    {
      "cell_type": "code",
      "source": [
        "#Creating DataFrame\n",
        "df1= pd.DataFrame(data, columns=['Paragraphs'])"
      ],
      "metadata": {
        "id": "ona-KqXU-HFK"
      },
      "execution_count": 5,
      "outputs": []
    },
    {
      "cell_type": "code",
      "source": [
        "#Cleaning dataframe\n",
        "df2 = df1[df1['Paragraphs'] != '\\n']\n",
        "df3= df2[df2[\"Paragraphs\"].str.contains(\"Chapter\") == False]\n",
        "df4= df3[df3[\"Paragraphs\"].str.contains(r'[*]') == False]\n",
        "df5 = df4[df4['Paragraphs'].str.len()>=10]"
      ],
      "metadata": {
        "id": "bQIH3l8pRSjN"
      },
      "execution_count": 6,
      "outputs": []
    },
    {
      "cell_type": "code",
      "source": [
        "#Extracting each word from dataframe and its part-of-speech tag\n",
        "def Extracting_words(df):\n",
        "  features= []\n",
        "  for subdf in df['Paragraphs']:\n",
        "    spacy_parser= nlp(str(subdf))\n",
        "    for entity in spacy_parser:\n",
        "      features.append({'token': entity.text, 'pos': entity.pos_})\n",
        "  return features\n",
        "\n",
        "f= Extracting_words(df5)"
      ],
      "metadata": {
        "id": "Y6cf9wmYYcwM"
      },
      "execution_count": 7,
      "outputs": []
    },
    {
      "cell_type": "code",
      "source": [
        "fdf= pd.DataFrame(f)"
      ],
      "metadata": {
        "id": "lJAHe9AzqW0h"
      },
      "execution_count": 8,
      "outputs": []
    },
    {
      "cell_type": "code",
      "source": [
        "#Extracting all the proper nouns, pronouns, adjectives and noun\n",
        "fdf1= fdf.query(\"pos == 'PROPN' | pos == 'PRON' | pos == 'ADJ' | pos == 'NOUN'\")\n",
        "fdf2= fdf1.reset_index(drop=True)"
      ],
      "metadata": {
        "id": "2qFL4JR21rOB"
      },
      "execution_count": 9,
      "outputs": []
    },
    {
      "cell_type": "code",
      "source": [
        "#Defining lists containing keywords for hair, eyes, skin color and facial hair\n",
        "hair_keywords= ['hair', 'braid', 'ponytail', 'locks','mane']\n",
        "eye_keywords= ['eyes', 'orbs']\n",
        "skin_keywords= ['skin']\n",
        "face_hair= ['moushtache', 'beard', 'clean-shaven', 'mane']"
      ],
      "metadata": {
        "id": "taVSHeHLy6-D"
      },
      "execution_count": 10,
      "outputs": []
    },
    {
      "cell_type": "code",
      "source": [
        "NovelProtHair= pd.DataFrame(columns=['Character','Hair'])\n",
        "NovelProtEyes= pd.DataFrame(columns=['Character','Eyes'])\n",
        "NovelProtSkin= pd.DataFrame(columns=['Character','Skin'])\n",
        "NovelProtFace= pd.DataFrame(columns=['Character','Face'])\n",
        "NovelProtGender= pd.DataFrame(columns=['Character','Gender'])"
      ],
      "metadata": {
        "id": "4fRSHqY50Xsa"
      },
      "execution_count": 11,
      "outputs": []
    },
    {
      "cell_type": "code",
      "source": [
        "'''For hair if hair keyword is encountered it will locate the nearest adjective and proper noun and put it in NovelProtHair dataframe\n",
        "   For eyes similar patterns follows\n",
        "   For skin, it will find nearest skin color (black, brown, white, etc.) and proper nouns\n",
        "   Similar patterns for gender and face hair\n",
        "'''\n",
        "\n",
        "for index, ent, pp in fdf2.itertuples(index=True):\n",
        "  adj=\"\"\n",
        "  if ent.lower() in hair_keywords:\n",
        "    matchingindex= np.array([])\n",
        "    matchingindex= np.append(matchingindex, fdf2[(fdf2['pos']=='PROPN')].index.values)\n",
        "    diff= abs(matchingindex - index)\n",
        "    nearest_index = matchingindex[np.argmin(diff)]\n",
        "    character= fdf2.loc[nearest_index].token.split(' ')[0]\n",
        "    adj= adj.join(str(fdf2[(fdf2['pos']=='ADJ') & (fdf2.index.values<= index+4) & (fdf2.index.values>=index-4)].token.values))\n",
        "    NovelProtHair.loc[len(NovelProtHair.index)] = [character, adj]\n",
        "  if ent.lower() in eye_keywords:\n",
        "    matchingindex= np.array([])\n",
        "    matchingindex= np.append(matchingindex, fdf2[(fdf2['pos']=='PROPN')].index.values)\n",
        "    diff= abs(matchingindex - index)\n",
        "    nearest_index = matchingindex[np.argmin(diff)]\n",
        "    character= fdf2.loc[nearest_index].token.split(' ')[0]\n",
        "    adj= adj.join(str(fdf2[(fdf2['pos']=='ADJ') & (fdf2.index.values<= index+4) & (fdf2.index.values>=index-4)].token.values))\n",
        "    NovelProtEyes.loc[len(NovelProtEyes.index)] = [character, adj]\n",
        "  if ent.lower() in skin_keywords:\n",
        "    matchingindex= np.array([])\n",
        "    matchingindex= np.append(matchingindex, fdf2[(fdf2['pos']=='PROPN')].index.values)\n",
        "    diff= abs(matchingindex - index)\n",
        "    nearest_index = matchingindex[np.argmin(diff)]\n",
        "    character= fdf2.loc[nearest_index].token.split(' ')[0]\n",
        "    adj= adj.join(str(fdf2[((fdf2['token']=='white') | (fdf2['token']=='black') | (fdf2['token']=='brown') | (fdf2['token']=='fair')) & (fdf2.index.values<= index+4) & (fdf2.index.values>=index-4)].token.values))\n",
        "    NovelProtSkin.loc[len(NovelProtSkin.index)] = [character, adj]\n",
        "  if pp=='PROPN':\n",
        "    matchingindex= np.array([])\n",
        "    matchingindex= np.append(matchingindex, fdf2[(fdf2['pos']=='PRON') & (fdf2.index.values<= index+10) & (fdf2.index.values>=index-10)].index.values)\n",
        "    diff= abs(matchingindex - index)\n",
        "    if len(matchingindex)==0:\n",
        "      continue\n",
        "    else:\n",
        "      nearest_index = matchingindex[np.argmin(diff)]\n",
        "      gender= \"\"\n",
        "      if (fdf2.loc[nearest_index].token.lower() == 'he' or fdf2.loc[nearest_index].token.lower()=='she'):\n",
        "        gender= fdf2.loc[nearest_index].token.lower()\n",
        "        NovelProtGender.loc[len(NovelProtGender.index)] = [ent, gender]\n",
        "  if ent.lower() in face_hair:\n",
        "    matchingindex= np.array([])\n",
        "    matchingindex= np.append(matchingindex, fdf2[(fdf2['pos']=='PROPN')].index.values)\n",
        "    diff= abs(matchingindex - index)\n",
        "    nearest_index = matchingindex[np.argmin(diff)]\n",
        "    character= fdf2.loc[nearest_index].token.split(' ')[0]\n",
        "    NovelProtFace.loc[len(NovelProtFace.index)] = [character, ent]"
      ],
      "metadata": {
        "id": "dK9qP72-1ZMi"
      },
      "execution_count": 12,
      "outputs": []
    },
    {
      "cell_type": "code",
      "source": [
        "#Filtering out character which are not frequently repeated\n",
        "NovelProtHair1= NovelProtHair.groupby('Character').filter(lambda x : len(x)>1)\n",
        "NovelProtEyes1= NovelProtEyes.groupby('Character').filter(lambda x : len(x)>5)\n",
        "NovelProtSkin1= NovelProtSkin.groupby('Character').filter(lambda x : len(x)>=1)\n",
        "NovelProtGender1= NovelProtGender.groupby('Character').filter(lambda x : len(x)>=10)\n",
        "NovelProtFace1= NovelProtFace.groupby('Character').filter(lambda x : len(x)>=1)"
      ],
      "metadata": {
        "id": "c-wQ5dW36v-9"
      },
      "execution_count": 13,
      "outputs": []
    },
    {
      "cell_type": "code",
      "source": [
        "NovelProtHair2= NovelProtHair1\n",
        "NovelProtEyes2= NovelProtEyes1\n",
        "NovelProtSkin2= NovelProtSkin1\n",
        "NovelProtGender2= NovelProtGender1\n",
        "NovelProtFace2= NovelProtFace1"
      ],
      "metadata": {
        "id": "-HOLSyVxXI3u"
      },
      "execution_count": 14,
      "outputs": []
    },
    {
      "cell_type": "code",
      "source": [
        "#Joining all rows with similar character names\n",
        "NovelProtHair2= NovelProtHair1.groupby('Character')['Hair'].apply(' '.join).reset_index()\n",
        "NovelProtEyes2= NovelProtEyes1.groupby('Character')['Eyes'].apply(' '.join).reset_index()\n",
        "NovelProtSkin2= NovelProtSkin1.groupby('Character')['Skin'].apply(' '.join).reset_index()\n",
        "NovelProtFace2= NovelProtFace1.groupby('Character', group_keys=False)['Face'].apply(' '.join).reset_index()\n",
        "NovelProtGender2= NovelProtGender1.groupby('Character')['Gender'].apply(' '.join).reset_index()"
      ],
      "metadata": {
        "id": "Hj-o5EkV4XfM"
      },
      "execution_count": 15,
      "outputs": []
    },
    {
      "cell_type": "code",
      "source": [
        "#Removing '[',',']' from strings\n",
        "NovelProtHair2.Hair= NovelProtHair2.Hair.str.replace('[','').str.replace(']','').str.replace('\\'','')\n",
        "NovelProtEyes2.Eyes= NovelProtEyes2.Eyes.str.replace('[','').str.replace(']','').str.replace('\\'','')\n",
        "NovelProtSkin2.Skin= NovelProtSkin2.Skin.str.replace('[','').str.replace(']','').str.replace('\\'','')\n",
        "NovelProtFace2.Face= NovelProtFace2.Face.str.replace('[','').str.replace(']','').str.replace('\\'','')"
      ],
      "metadata": {
        "colab": {
          "base_uri": "https://localhost:8080/"
        },
        "id": "fyhODgXsQbpB",
        "outputId": "0d274dd9-6953-42a4-d283-4e9d4110fd23"
      },
      "execution_count": 16,
      "outputs": [
        {
          "output_type": "stream",
          "name": "stderr",
          "text": [
            "<ipython-input-16-febb76bfff53>:2: FutureWarning: The default value of regex will change from True to False in a future version. In addition, single character regular expressions will *not* be treated as literal strings when regex=True.\n",
            "  NovelProtHair2.Hair= NovelProtHair2.Hair.str.replace('[','').str.replace(']','').str.replace('\\'','')\n",
            "<ipython-input-16-febb76bfff53>:3: FutureWarning: The default value of regex will change from True to False in a future version. In addition, single character regular expressions will *not* be treated as literal strings when regex=True.\n",
            "  NovelProtEyes2.Eyes= NovelProtEyes2.Eyes.str.replace('[','').str.replace(']','').str.replace('\\'','')\n",
            "<ipython-input-16-febb76bfff53>:4: FutureWarning: The default value of regex will change from True to False in a future version. In addition, single character regular expressions will *not* be treated as literal strings when regex=True.\n",
            "  NovelProtSkin2.Skin= NovelProtSkin2.Skin.str.replace('[','').str.replace(']','').str.replace('\\'','')\n",
            "<ipython-input-16-febb76bfff53>:5: FutureWarning: The default value of regex will change from True to False in a future version. In addition, single character regular expressions will *not* be treated as literal strings when regex=True.\n",
            "  NovelProtFace2.Face= NovelProtFace2.Face.str.replace('[','').str.replace(']','').str.replace('\\'','')\n"
          ]
        }
      ]
    },
    {
      "cell_type": "code",
      "source": [
        "from collections import Counter\n",
        "\n",
        "#To collect top two most frequent words, here adjectives\n",
        "def get_top_two_frequent_words(df, column_name):\n",
        "    top_two_words = []\n",
        "    for row in df[column_name]:\n",
        "        if pd.isna(row):  # Skip empty rows\n",
        "            top_two_words.append([])\n",
        "            continue\n",
        "\n",
        "        words = row.split()  # Split the row into individual words\n",
        "        word_counts = Counter(words)  # Count the frequency of each word\n",
        "        most_common_words = word_counts.most_common(2)  # Get the top two most frequent words\n",
        "        top_two_words.append([word[0] for word in most_common_words])  # Append the top two words to the list\n",
        "\n",
        "    df['TopTwoWords'] = top_two_words  # Create a new column with the top two words\n",
        "    return df\n",
        "\n",
        "#To collect top frequent word from all adjectives\n",
        "def get_top_frequent_word(df, column_name):\n",
        "    top_word = []\n",
        "    for row in df[column_name]:\n",
        "        if pd.isna(row):  # Skip empty rows\n",
        "            top_word.append([])\n",
        "            continue\n",
        "\n",
        "        words = row.split()  # Split the row into individual words\n",
        "        word_counts = Counter(words)  # Count the frequency of each word\n",
        "        most_common_word = word_counts.most_common(1)  # Get the top most frequent word\n",
        "        top_word.append([word[0] for word in most_common_word])  # Append the top word to the list\n",
        "\n",
        "    df['TopWord'] = top_word  # Create a new column with the top word\n",
        "    return df"
      ],
      "metadata": {
        "id": "PpSkjq3vFHPs"
      },
      "execution_count": 17,
      "outputs": []
    },
    {
      "cell_type": "code",
      "source": [
        "NovelProtHair3= get_top_two_frequent_words(NovelProtHair2, 'Hair')\n",
        "NovelProtEyes3= get_top_two_frequent_words(NovelProtEyes2, 'Eyes')\n",
        "NovelProtSkin3= get_top_frequent_word(NovelProtSkin2,'Skin')\n",
        "NovelProtFace3= get_top_frequent_word(NovelProtFace2,'Face')\n",
        "NovelProtGender3= get_top_frequent_word(NovelProtGender2,'Gender')"
      ],
      "metadata": {
        "id": "pk5EWHlHb65n"
      },
      "execution_count": 18,
      "outputs": []
    },
    {
      "cell_type": "code",
      "source": [
        "NovelProtHair4= NovelProtHair3.drop(['Hair'],axis='columns').rename(columns={'TopTwoWords':'Hair'})\n",
        "NovelProtEyes4= NovelProtEyes3.drop(['Eyes'],axis='columns').rename(columns={'TopTwoWords':'Eyes'})\n",
        "NovelProtSkin4= NovelProtSkin3.drop(['Skin'],axis='columns').rename(columns={'TopWord':'Skin'})\n",
        "NovelProtFace4= NovelProtFace3.drop(['Face'],axis='columns').rename(columns={'TopWord':'Face'})\n",
        "NovelProtGender4= NovelProtGender3.drop(['Gender'],axis='columns').rename(columns={'TopWord':'Gender'})"
      ],
      "metadata": {
        "id": "fj2cB8vwSKv2"
      },
      "execution_count": 19,
      "outputs": []
    },
    {
      "cell_type": "code",
      "source": [
        "#Merging Dataframes\n",
        "NovelProt1= pd.merge(NovelProtHair4, NovelProtEyes4, on='Character', how='outer')\n",
        "NovelProt2= pd.merge(NovelProt1, NovelProtSkin4, on='Character', how='outer')\n",
        "NovelProt3= pd.merge(NovelProt2, NovelProtFace4, on='Character', how='outer')\n",
        "NovelProt4= pd.merge(NovelProt3, NovelProtGender4, on='Character', how='outer')"
      ],
      "metadata": {
        "id": "kqJJu8jRTGa3"
      },
      "execution_count": 20,
      "outputs": []
    },
    {
      "cell_type": "code",
      "source": [
        "#dropping rows having more than 2 NaN values in their columns\n",
        "threshold = 2\n",
        "Novel_filtered = NovelProt4.dropna(thresh=NovelProt4.shape[1] - threshold + 1)"
      ],
      "metadata": {
        "id": "m0tq3PwLHHLh"
      },
      "execution_count": 21,
      "outputs": []
    },
    {
      "cell_type": "code",
      "source": [
        "#Creating dataframe that contains prompt for stable diffusion\n",
        "descriptions= pd.DataFrame(columns=['Character','des'])\n",
        "for index, row in Novel_filtered.iterrows():\n",
        "    character = row['Character']\n",
        "    hair = ' '.join(row['Hair'])\n",
        "    eyes = ' '.join(row['Eyes'])\n",
        "    skin = ' '.join(row['Skin'])\n",
        "    gender = ' '.join(row['Gender'])\n",
        "\n",
        "    if gender == 'she':\n",
        "        gender = 'woman'\n",
        "    elif gender == 'he':\n",
        "        gender = 'man'\n",
        "    descriptions.loc[len(descriptions.index)] = [character, f\"{gender} with {hair} hair, {eyes} eyes, {skin} skin.\"]\n"
      ],
      "metadata": {
        "id": "-VQaZOKQHSWg"
      },
      "execution_count": 22,
      "outputs": []
    },
    {
      "cell_type": "code",
      "source": [
        "descriptions.head()"
      ],
      "metadata": {
        "colab": {
          "base_uri": "https://localhost:8080/",
          "height": 143
        },
        "id": "DnJP48aip-KB",
        "outputId": "dba82c6b-4b2e-4da1-c19b-7d84ca39081b"
      },
      "execution_count": 23,
      "outputs": [
        {
          "output_type": "execute_result",
          "data": {
            "text/plain": [
              "  Character                                                des\n",
              "0   Addison  woman with curly brown hair, afraid glaring ey...\n",
              "1     James  man with wet brown hair, dark furious eyes, fa...\n",
              "2     Lucas  man with pinkish wild hair, other green eyes, ..."
            ],
            "text/html": [
              "\n",
              "  <div id=\"df-f804dde2-dbfb-40d4-b2c6-dd8b300ae260\">\n",
              "    <div class=\"colab-df-container\">\n",
              "      <div>\n",
              "<style scoped>\n",
              "    .dataframe tbody tr th:only-of-type {\n",
              "        vertical-align: middle;\n",
              "    }\n",
              "\n",
              "    .dataframe tbody tr th {\n",
              "        vertical-align: top;\n",
              "    }\n",
              "\n",
              "    .dataframe thead th {\n",
              "        text-align: right;\n",
              "    }\n",
              "</style>\n",
              "<table border=\"1\" class=\"dataframe\">\n",
              "  <thead>\n",
              "    <tr style=\"text-align: right;\">\n",
              "      <th></th>\n",
              "      <th>Character</th>\n",
              "      <th>des</th>\n",
              "    </tr>\n",
              "  </thead>\n",
              "  <tbody>\n",
              "    <tr>\n",
              "      <th>0</th>\n",
              "      <td>Addison</td>\n",
              "      <td>woman with curly brown hair, afraid glaring ey...</td>\n",
              "    </tr>\n",
              "    <tr>\n",
              "      <th>1</th>\n",
              "      <td>James</td>\n",
              "      <td>man with wet brown hair, dark furious eyes, fa...</td>\n",
              "    </tr>\n",
              "    <tr>\n",
              "      <th>2</th>\n",
              "      <td>Lucas</td>\n",
              "      <td>man with pinkish wild hair, other green eyes, ...</td>\n",
              "    </tr>\n",
              "  </tbody>\n",
              "</table>\n",
              "</div>\n",
              "      <button class=\"colab-df-convert\" onclick=\"convertToInteractive('df-f804dde2-dbfb-40d4-b2c6-dd8b300ae260')\"\n",
              "              title=\"Convert this dataframe to an interactive table.\"\n",
              "              style=\"display:none;\">\n",
              "        \n",
              "  <svg xmlns=\"http://www.w3.org/2000/svg\" height=\"24px\"viewBox=\"0 0 24 24\"\n",
              "       width=\"24px\">\n",
              "    <path d=\"M0 0h24v24H0V0z\" fill=\"none\"/>\n",
              "    <path d=\"M18.56 5.44l.94 2.06.94-2.06 2.06-.94-2.06-.94-.94-2.06-.94 2.06-2.06.94zm-11 1L8.5 8.5l.94-2.06 2.06-.94-2.06-.94L8.5 2.5l-.94 2.06-2.06.94zm10 10l.94 2.06.94-2.06 2.06-.94-2.06-.94-.94-2.06-.94 2.06-2.06.94z\"/><path d=\"M17.41 7.96l-1.37-1.37c-.4-.4-.92-.59-1.43-.59-.52 0-1.04.2-1.43.59L10.3 9.45l-7.72 7.72c-.78.78-.78 2.05 0 2.83L4 21.41c.39.39.9.59 1.41.59.51 0 1.02-.2 1.41-.59l7.78-7.78 2.81-2.81c.8-.78.8-2.07 0-2.86zM5.41 20L4 18.59l7.72-7.72 1.47 1.35L5.41 20z\"/>\n",
              "  </svg>\n",
              "      </button>\n",
              "      \n",
              "  <style>\n",
              "    .colab-df-container {\n",
              "      display:flex;\n",
              "      flex-wrap:wrap;\n",
              "      gap: 12px;\n",
              "    }\n",
              "\n",
              "    .colab-df-convert {\n",
              "      background-color: #E8F0FE;\n",
              "      border: none;\n",
              "      border-radius: 50%;\n",
              "      cursor: pointer;\n",
              "      display: none;\n",
              "      fill: #1967D2;\n",
              "      height: 32px;\n",
              "      padding: 0 0 0 0;\n",
              "      width: 32px;\n",
              "    }\n",
              "\n",
              "    .colab-df-convert:hover {\n",
              "      background-color: #E2EBFA;\n",
              "      box-shadow: 0px 1px 2px rgba(60, 64, 67, 0.3), 0px 1px 3px 1px rgba(60, 64, 67, 0.15);\n",
              "      fill: #174EA6;\n",
              "    }\n",
              "\n",
              "    [theme=dark] .colab-df-convert {\n",
              "      background-color: #3B4455;\n",
              "      fill: #D2E3FC;\n",
              "    }\n",
              "\n",
              "    [theme=dark] .colab-df-convert:hover {\n",
              "      background-color: #434B5C;\n",
              "      box-shadow: 0px 1px 3px 1px rgba(0, 0, 0, 0.15);\n",
              "      filter: drop-shadow(0px 1px 2px rgba(0, 0, 0, 0.3));\n",
              "      fill: #FFFFFF;\n",
              "    }\n",
              "  </style>\n",
              "\n",
              "      <script>\n",
              "        const buttonEl =\n",
              "          document.querySelector('#df-f804dde2-dbfb-40d4-b2c6-dd8b300ae260 button.colab-df-convert');\n",
              "        buttonEl.style.display =\n",
              "          google.colab.kernel.accessAllowed ? 'block' : 'none';\n",
              "\n",
              "        async function convertToInteractive(key) {\n",
              "          const element = document.querySelector('#df-f804dde2-dbfb-40d4-b2c6-dd8b300ae260');\n",
              "          const dataTable =\n",
              "            await google.colab.kernel.invokeFunction('convertToInteractive',\n",
              "                                                     [key], {});\n",
              "          if (!dataTable) return;\n",
              "\n",
              "          const docLinkHtml = 'Like what you see? Visit the ' +\n",
              "            '<a target=\"_blank\" href=https://colab.research.google.com/notebooks/data_table.ipynb>data table notebook</a>'\n",
              "            + ' to learn more about interactive tables.';\n",
              "          element.innerHTML = '';\n",
              "          dataTable['output_type'] = 'display_data';\n",
              "          await google.colab.output.renderOutput(dataTable, element);\n",
              "          const docLink = document.createElement('div');\n",
              "          docLink.innerHTML = docLinkHtml;\n",
              "          element.appendChild(docLink);\n",
              "        }\n",
              "      </script>\n",
              "    </div>\n",
              "  </div>\n",
              "  "
            ]
          },
          "metadata": {},
          "execution_count": 23
        }
      ]
    },
    {
      "cell_type": "code",
      "source": [
        "descriptions.to_csv(\"/content/drive/MyDrive/'descriptions.csv'\", index=False)"
      ],
      "metadata": {
        "id": "HzvYABdsSqnV"
      },
      "execution_count": 24,
      "outputs": []
    }
  ]
}